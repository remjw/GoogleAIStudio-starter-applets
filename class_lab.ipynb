{
  "cells": [
    {
      "cell_type": "markdown",
      "metadata": {
        "id": "view-in-github",
        "colab_type": "text"
      },
      "source": [
        "<a href=\"https://colab.research.google.com/github/remjw/GoogleAIStudio-starter-applets/blob/main/class_lab.ipynb\" target=\"_parent\"><img src=\"https://colab.research.google.com/assets/colab-badge.svg\" alt=\"Open In Colab\"/></a>"
      ]
    },
    {
      "cell_type": "markdown",
      "metadata": {
        "id": "Bl4WlXpnQwH4"
      },
      "source": [
        "(Updated 2025/10/18 in Colab)\n",
        "\n",
        "# Everything in Python is an object!\n",
        "\n",
        "and Python implements them in the Object-oriented programming paradigm.\n",
        "\n",
        "To run cells in the notebook, click the button below to open the notebook in Colab:\n",
        "\n",
        "[![Open In Colab](https://colab.research.google.com/assets/colab-badge.svg)](https://colab.research.google.com/github)\n",
        "\n",
        "On the Colab page, you can run each cell by clicking the play button on the left side of the cell. You can also modify the code and run it to see how it works. You can also add new cells by clicking the \"+\" button at the top left corner of the notebook.\n"
      ]
    },
    {
      "cell_type": "markdown",
      "metadata": {
        "id": "dBSfADOu_h8Y"
      },
      "source": [
        "# Working with Classes in Python\n"
      ]
    },
    {
      "cell_type": "markdown",
      "metadata": {
        "id": "TmN6oe5wHeOg"
      },
      "source": [
        " - Read through the notebook and run each cell.\n",
        " - At the end of the lab, the Practice part gives a Python class `QuadEquaSolver` to solve the quadratic equation. Improve the class in its exceptional handling capability."
      ]
    },
    {
      "cell_type": "markdown",
      "metadata": {
        "id": "TE6gT0FnTeZ-"
      },
      "source": [
        "## Objectives\n",
        "\n",
        "- Classes are the building blocks of an object-oriented program.\n",
        "- Use `class` keyword to create a user-defined class\n",
        "- Redefine the constructor method for customizing instance creation\n",
        "- Initialize new data attributes (fields) in the constructor\n",
        "- Override the __str__ method in the class definition for customizing string representation when an instance being called in `print()` and `str()` functions.\n",
        "- Specify private members by adding the prefix double leading underscores to their name.\n",
        "- Write the accessor and mutator methods to manipulate private members.\n",
        "- Access the object members using the dot operator (.)\n",
        "- Reference an object itself with the `self` parameter. Use `self` to access its members by name.\n",
        "- Identify classes and inheritance relationships in an UML class diagram"
      ]
    },
    {
      "cell_type": "markdown",
      "metadata": {
        "id": "MOu2_NQ4ou_q"
      },
      "source": [
        "## Object-oriented Paradigm\n",
        "\n",
        "You are proficient at solving programming problems using the elements of the procedural paradigm, including built-in data structures along with function object, conditional and loop statements. Developing large scale software systems requires more.\n",
        "\n",
        "Consumer software is a class of commercial software that is sold directly to end-users. Application Programming Interfaces (APIs) are used by both consumers and developers. The software consumed by the developer requires **reusability**, **maintainability** and **readability**. **Object-oriented paradigm** (OOP) is a paradigm which was designed for this purpose.\n",
        "\n",
        "\n",
        "\n",
        "\n",
        "\n",
        "\n",
        "\n"
      ]
    },
    {
      "cell_type": "markdown",
      "metadata": {
        "id": "BbdMRN-NZsUC"
      },
      "source": [
        "With the OOP, software is composed of a group of `classes` and `interfaces`.\n",
        "\n",
        "- Each class object is made up of various `attributes` in variable objects and `methods` in function objects.\n",
        "\n",
        "- An interface class contains stable methods only for direct access without instantiation.\n",
        "\n",
        "- Collections of useful prewritten classes and interfaces are distributed as open source libraries publicly shared by field professionals."
      ]
    },
    {
      "cell_type": "markdown",
      "metadata": {
        "id": "IDDysEp4ZyGU"
      },
      "source": [
        "## Libraries"
      ]
    },
    {
      "cell_type": "markdown",
      "metadata": {
        "id": "8MbFyDqCkAYl"
      },
      "source": [
        " A data scientist can achieve most responsibilities through identifying right libraries and reading the docs for calling prewritten classes and libraries in open-source libraries. Entry-level Data scientists generally do not have to dive deeply into the OOP paradigm and its implementation.\n",
        "\n",
        "Ensure that you are aware that most of popular external libraries were implemented by applying the OOP, being structured in a collection of classes and interfaces."
      ]
    },
    {
      "cell_type": "markdown",
      "metadata": {
        "id": "pkleIg6oWD7L"
      },
      "source": [
        "### Library Classes"
      ]
    },
    {
      "cell_type": "markdown",
      "metadata": {
        "id": "HDjcH49zcS2l"
      },
      "source": [
        "Each time you access a class for using its prewritten methods, first create an instance of the class to carry out your specific tasks. Recall that in one or two code examples where you import Pandas library."
      ]
    },
    {
      "cell_type": "markdown",
      "metadata": {
        "id": "wLr2OK4F1I2R"
      },
      "source": [
        "Pandas is distributed for carrying out tabular data manipulation in a collection of classes and interfaces in Python wrappers. The core structure type was implemented in a Python class named `DataFrame`. To access its members, user must instantiate a new instance from the DataFrame class, silently done by the constructor method (as documented here.) Here is the source code of pandas.DataFrame, [frame.py](https://github.com/pandas-dev/pandas/blob/v2.2.1/pandas/core/frame.py) of 12684 lines long."
      ]
    },
    {
      "cell_type": "markdown",
      "metadata": {
        "id": "xJL2CyOa2dIh"
      },
      "source": [
        "For instance, construct a Pandas DataFrame from a dictionary:"
      ]
    },
    {
      "cell_type": "code",
      "execution_count": null,
      "metadata": {
        "id": "7lDXuGS41Hsm"
      },
      "outputs": [],
      "source": [
        "data = {'cat' : ['book', 'book', 'grocery', 'entertainment', 'grocery']\n",
        "        , 'total' : [90, 21, 6, 16, 50]\n",
        "        , 'month' : ['January', 'January', 'March', 'May', 'February']\n",
        "      }"
      ]
    },
    {
      "cell_type": "markdown",
      "metadata": {
        "id": "VXIeZDpp2oZo"
      },
      "source": [
        "One must import pandas with an alias pd for its binded name. Passing the dictionary data as argument to the constructor, the call to pd.DataFrame will instantiate (construct) a new DataFrame instance named `purchase`"
      ]
    },
    {
      "cell_type": "code",
      "execution_count": null,
      "metadata": {
        "id": "WEEzyBdE2GST"
      },
      "outputs": [],
      "source": [
        "import pandas as pd\n",
        "purchase = pd.DataFrame(data)"
      ]
    },
    {
      "cell_type": "markdown",
      "metadata": {
        "id": "iTwTekl45aPD"
      },
      "source": [
        "Display the constructed purchase frame:"
      ]
    },
    {
      "cell_type": "code",
      "execution_count": null,
      "metadata": {
        "colab": {
          "base_uri": "https://localhost:8080/"
        },
        "id": "XjSW-xMn5e6h",
        "outputId": "ded718d5-3490-498c-909a-72556de9843b"
      },
      "outputs": [
        {
          "name": "stdout",
          "output_type": "stream",
          "text": [
            "             cat  total     month\n",
            "0           book     90   January\n",
            "1           book     21   January\n",
            "2        grocery      6     March\n",
            "3  entertainment     16       May\n",
            "4        grocery     50  February\n"
          ]
        }
      ],
      "source": [
        "print(purchase)"
      ]
    },
    {
      "cell_type": "markdown",
      "metadata": {
        "id": "LCCoSMAG5L1s"
      },
      "source": [
        "To verify purchase is an instance of pandas.DataFrame,"
      ]
    },
    {
      "cell_type": "code",
      "execution_count": null,
      "metadata": {
        "colab": {
          "base_uri": "https://localhost:8080/"
        },
        "id": "s7jzFj_s5LMA",
        "outputId": "05d959f6-f929-4d6c-e467-6dbebca20d4d"
      },
      "outputs": [
        {
          "name": "stdout",
          "output_type": "stream",
          "text": [
            "<class 'pandas.core.frame.DataFrame'>\n",
            "True\n"
          ]
        }
      ],
      "source": [
        "print(type(purchase)); print(isinstance(purchase, pd.DataFrame))"
      ]
    },
    {
      "cell_type": "markdown",
      "metadata": {
        "id": "Ac6qXgsQZh3R"
      },
      "source": [
        "### Library Interfaces"
      ]
    },
    {
      "cell_type": "markdown",
      "metadata": {
        "id": "1QLLq9atUhLo"
      },
      "source": [
        "Recall that in your previous practice you plot the histogram using an interface `pyplot` from `matplotlib`, Python's open source library."
      ]
    },
    {
      "cell_type": "code",
      "execution_count": null,
      "metadata": {
        "id": "N6Y_VPJtUf0n"
      },
      "outputs": [],
      "source": [
        "# Plot the graph of the squre function Y = X^2\n",
        "import matplotlib.pyplot as plt\n",
        "X = range(-10, 11)\n",
        "Y = [ x ** 2 for x in X ]\n",
        "_ = plt.plot(X, Y)"
      ]
    },
    {
      "cell_type": "markdown",
      "metadata": {
        "id": "WBfXUf11YvTW"
      },
      "source": [
        "`plt` is a stable interface as it only contains static methods which supports direct call by the interface name `plt`, for example, `plt.plot()` in line 5 calls a static method `plot` using the name `plt`"
      ]
    },
    {
      "cell_type": "markdown",
      "metadata": {
        "id": "-1I83eZ2Ue5j"
      },
      "source": [
        "# Entity (object) Type, Class Type and Class Instance"
      ]
    },
    {
      "cell_type": "markdown",
      "metadata": {
        "id": "ifj7fuOgebmk"
      },
      "source": [
        "OOP is a paradigm; its concepts and components are language independent.\n",
        "\n",
        "- Identify entities in a problem domain\n",
        "- Generalize the entities into a number of object types\n",
        "- Determine the interactions. Assign relationship type for each type of interaction.\n",
        "- Visualize the model in UML class diagram\n",
        "- Choose a programming language\n",
        "- Implement the model\n",
        "\n"
      ]
    },
    {
      "cell_type": "markdown",
      "metadata": {
        "id": "LsPib2ZeeXNF"
      },
      "source": [
        "Treat a class as a subject, living, envolving and transforming, extending.\n"
      ]
    },
    {
      "cell_type": "markdown",
      "metadata": {
        "id": "6wWVIvsGTh5b"
      },
      "source": [
        "- An object type represents an **entity type** in the real world that is abstract enough to be generalized as a type.\n",
        "\n",
        "For example, a student, a desk, a circle, a button, and even a loan can all be viewed as object types, being abstract. An object type has a unique identity, state, and behaviors.\n",
        "  \n",
        "  A school can have thousands of (concrete) students, making a group of instances in the same abstract type, student.\n",
        "  \n",
        "  A bunch of cookies made from a cookie cutter give another example for a group of concrete instances instantiated from an abstract class.\n",
        "\n",
        "\n",
        "- **A class is a data STRUCTURE or object TYPE** which encapsulates both properties (attributes) and functions (methods) within a single object model.\n",
        "\n",
        "\n",
        "- **What is an object instance is?** The **STATE** of an object instance is determined by the current values of a set of data fields (also known as *properties* and *attributes*)\n",
        "\n",
        "- **What can an object do?** The **BEHAVIOR** or capability of an object is defined by a set of methods.\n"
      ]
    },
    {
      "cell_type": "markdown",
      "metadata": {
        "id": "bnZQRO0PAIR8"
      },
      "source": [
        "# Class Diagram\n",
        "\n",
        "UML (Unified Modeling Language) provides diagramming standards for systems design and modeling. Class diagram is part of UML as a diagramming tool to draw objects and their relationship in a system.\n",
        "\n",
        "### Three Compartments in an UML Class\n",
        "\n",
        "-   Name: A class name beginning with an uppercase letter\n",
        "-   Attributes: variables associated with the class\n",
        "-   Methods: functions associated with the class\n"
      ]
    },
    {
      "cell_type": "markdown",
      "metadata": {
        "id": "CAM8RAjWpUMJ"
      },
      "source": [
        "## Superclass & Subclass\n",
        "\n",
        "![UML Class Diagram](https://www.jdatalab.com/assets/images/class_diagram_student_person.PNG)\n",
        "\n",
        "\n"
      ]
    },
    {
      "cell_type": "markdown",
      "metadata": {
        "id": "H-cUEnjn_UFl"
      },
      "source": [
        "# Writing Class Type & Class Instance\n",
        "\n",
        "- `class` keyword: define a class object (type)\n",
        "\n",
        "- `self` parameter: A handle (reference) to access the current class or instance object"
      ]
    },
    {
      "cell_type": "markdown",
      "metadata": {
        "id": "hVRhk6WoRMnJ"
      },
      "source": [
        "## Empty Class\n"
      ]
    },
    {
      "cell_type": "markdown",
      "metadata": {
        "id": "Cbwy-SSAAYB7"
      },
      "source": [
        "Define an empty class A, equivalent to creating a user-defined type A."
      ]
    },
    {
      "cell_type": "code",
      "execution_count": null,
      "metadata": {
        "id": "n5Q-mldrAFti"
      },
      "outputs": [],
      "source": [
        "class A:\n",
        "  pass"
      ]
    },
    {
      "cell_type": "markdown",
      "metadata": {
        "id": "gSaf6yTUXMDt"
      },
      "source": [
        "To display for an object, a list of all the built-in and user-defined properties, call `dir function` with its name:"
      ]
    },
    {
      "cell_type": "code",
      "execution_count": null,
      "metadata": {
        "colab": {
          "base_uri": "https://localhost:8080/"
        },
        "id": "WJq0tBUwXI2f",
        "outputId": "e6138006-3cfd-4397-a7af-4c42d0802168"
      },
      "outputs": [
        {
          "data": {
            "text/plain": [
              "['__class__',\n",
              " '__delattr__',\n",
              " '__dict__',\n",
              " '__dir__',\n",
              " '__doc__',\n",
              " '__eq__',\n",
              " '__format__',\n",
              " '__ge__',\n",
              " '__getattribute__',\n",
              " '__gt__',\n",
              " '__hash__',\n",
              " '__init__',\n",
              " '__init_subclass__',\n",
              " '__le__',\n",
              " '__lt__',\n",
              " '__module__',\n",
              " '__ne__',\n",
              " '__new__',\n",
              " '__reduce__',\n",
              " '__reduce_ex__',\n",
              " '__repr__',\n",
              " '__setattr__',\n",
              " '__sizeof__',\n",
              " '__str__',\n",
              " '__subclasshook__',\n",
              " '__weakref__']"
            ]
          },
          "execution_count": 3,
          "metadata": {},
          "output_type": "execute_result"
        }
      ],
      "source": [
        "dir(A)"
      ]
    },
    {
      "cell_type": "markdown",
      "metadata": {
        "id": "fDLfVu1gX4z-"
      },
      "source": [
        "### Double Leading and Trailing Underscores in a variable's name `__var__`\n",
        "\n",
        "indicates special methods defined by the Python language. Avoid this naming scheme for your own attributes."
      ]
    },
    {
      "cell_type": "markdown",
      "metadata": {
        "id": "balKvFbfB9XX"
      },
      "source": [
        "Create an instance of class `A` in `a`."
      ]
    },
    {
      "cell_type": "code",
      "execution_count": null,
      "metadata": {
        "colab": {
          "base_uri": "https://localhost:8080/"
        },
        "id": "g2h5YyCTDFm-",
        "outputId": "907ce9f9-f218-429e-9c71-ac6c33ebebef"
      },
      "outputs": [
        {
          "data": {
            "text/plain": [
              "True"
            ]
          },
          "execution_count": 20,
          "metadata": {},
          "output_type": "execute_result"
        }
      ],
      "source": [
        "a = A()\n",
        "isinstance(a, A)"
      ]
    },
    {
      "cell_type": "markdown",
      "metadata": {
        "id": "fzncqUQLKusn"
      },
      "source": [
        "Behind the scenes, Python invokes default constructor `__init__`. The constructor returns an object of type A, i.e., an instance of A. Print a will display the object ID of `a`, a memory address represented in a hexidecimal number."
      ]
    },
    {
      "cell_type": "code",
      "execution_count": null,
      "metadata": {
        "colab": {
          "base_uri": "https://localhost:8080/"
        },
        "id": "PCQ_ze6GK9_6",
        "outputId": "9be60c47-d80c-4f38-a012-d65cd41f25d1"
      },
      "outputs": [
        {
          "name": "stdout",
          "output_type": "stream",
          "text": [
            "<__main__.A object at 0x7a4f86e2ca00>\n"
          ]
        }
      ],
      "source": [
        "print(a)"
      ]
    },
    {
      "cell_type": "markdown",
      "metadata": {
        "id": "nyyTyBlwBsZ7"
      },
      "source": [
        "\n",
        "Print the `__dict__` attribute to display the instance `a` in the dictionary format."
      ]
    },
    {
      "cell_type": "code",
      "execution_count": null,
      "metadata": {
        "colab": {
          "base_uri": "https://localhost:8080/"
        },
        "id": "JRKijWpZALro",
        "outputId": "3ccd2cd6-3180-4ffe-a0f5-fd0e8ea870af"
      },
      "outputs": [
        {
          "name": "stdout",
          "output_type": "stream",
          "text": [
            "{}\n"
          ]
        }
      ],
      "source": [
        "# What an empty Python's class instance has?\n",
        "print(a.__dict__)"
      ]
    },
    {
      "cell_type": "markdown",
      "metadata": {
        "id": "pJ7oWR6D-whQ"
      },
      "source": [
        "`a` is currently empty, having no user-defined elements yet.\n",
        "\n",
        " An instance's `__dict__` only stores its **writable, changeable properties**.\n",
        "\n",
        " `__dict__` of an empty instance is empty."
      ]
    },
    {
      "cell_type": "markdown",
      "metadata": {
        "id": "1ZAzJOpfRXIG"
      },
      "source": [
        "## Add global constant"
      ]
    },
    {
      "cell_type": "markdown",
      "metadata": {
        "id": "QRTg5yxNEh4Z"
      },
      "source": [
        "Now, redefine **A** to add a global constant `LINE`:"
      ]
    },
    {
      "cell_type": "code",
      "execution_count": null,
      "metadata": {
        "id": "6qTlwIB3EhH6"
      },
      "outputs": [],
      "source": [
        "class A:\n",
        "  LINE = '\\n' # global,unchangeable property\n",
        "  pass"
      ]
    },
    {
      "cell_type": "markdown",
      "metadata": {
        "id": "cUjHdJdLE5ty"
      },
      "source": [
        "Instantiate a new instance `a` from **A**. Print its attribute list in `__dict__`."
      ]
    },
    {
      "cell_type": "code",
      "execution_count": null,
      "metadata": {
        "colab": {
          "base_uri": "https://localhost:8080/"
        },
        "id": "bcAkDVHFE3fp",
        "outputId": "e97ed3f1-d643-43bf-8982-561c29dbb317"
      },
      "outputs": [
        {
          "name": "stdout",
          "output_type": "stream",
          "text": [
            "{}\n"
          ]
        }
      ],
      "source": [
        "a = A()\n",
        "print(a.__dict__)"
      ]
    },
    {
      "cell_type": "markdown",
      "metadata": {
        "id": "2BfDKXxVFIfn"
      },
      "source": [
        "Still empty! An instance's `__dict__` **hides unchangeable properties**. `LINE` is a constant in A, unchangeable."
      ]
    },
    {
      "cell_type": "markdown",
      "metadata": {
        "id": "HTWw8yqYOdXD"
      },
      "source": [
        "## Unchangable?"
      ]
    },
    {
      "cell_type": "markdown",
      "metadata": {
        "id": "bVc3J15pK92b"
      },
      "source": [
        "Using the **dot operator** to read `line` from **A**:"
      ]
    },
    {
      "cell_type": "code",
      "execution_count": null,
      "metadata": {
        "colab": {
          "base_uri": "https://localhost:8080/",
          "height": 35
        },
        "id": "Cj8EqLjAK2fD",
        "outputId": "27423ea8-69d0-4356-9191-cfd91ccb9fd6"
      },
      "outputs": [
        {
          "data": {
            "application/vnd.google.colaboratory.intrinsic+json": {
              "type": "string"
            },
            "text/plain": [
              "'\\n'"
            ]
          },
          "execution_count": 9,
          "metadata": {},
          "output_type": "execute_result"
        }
      ],
      "source": [
        "A.LINE"
      ]
    },
    {
      "cell_type": "markdown",
      "metadata": {
        "id": "yGECr6P2LmKY"
      },
      "source": [
        "**But I can rewrite the constant LINE!** Why is it treated as unchangable attribute?"
      ]
    },
    {
      "cell_type": "code",
      "execution_count": null,
      "metadata": {
        "id": "wExHi_A-La0B"
      },
      "outputs": [],
      "source": [
        "A.LINE = 10 # write a new value to LINE"
      ]
    },
    {
      "cell_type": "code",
      "execution_count": null,
      "metadata": {
        "colab": {
          "base_uri": "https://localhost:8080/"
        },
        "id": "3zLOCvyiLg5H",
        "outputId": "f216375b-7a46-4b3f-e850-2c2ccbad2754"
      },
      "outputs": [
        {
          "data": {
            "text/plain": [
              "10"
            ]
          },
          "execution_count": 11,
          "metadata": {},
          "output_type": "execute_result"
        }
      ],
      "source": [
        "A.LINE"
      ]
    },
    {
      "cell_type": "markdown",
      "metadata": {
        "id": "NeM42AV7L4gi"
      },
      "source": [
        "Python suggests constant should not be changed. Python does not enforce the law. Nothing will stop a programmer from changing the value in a constant.\n",
        "\n",
        "In a class definition, any attribute name defined in the global scope of a class implies the member is global constant, unchangable. But Python does not prevent deliberate change.\n"
      ]
    },
    {
      "cell_type": "markdown",
      "metadata": {
        "id": "0gdIMpfSGWTC"
      },
      "source": [
        "## Now, override `__init__` method\n",
        "\n",
        "Define the **constructor** `__init__(self)` which creates a new instance in a custom way:\n",
        "\n",
        "- Initialize a required, (public) attribute `*comma*` to the string value `,`.\n"
      ]
    },
    {
      "cell_type": "code",
      "execution_count": null,
      "metadata": {
        "id": "oNH-Hxq9GSSA"
      },
      "outputs": [],
      "source": [
        "class A:\n",
        "  line = '\\n'\n",
        "  def __init__(self):\n",
        "    self.comma = ','\n",
        "    return"
      ]
    },
    {
      "cell_type": "markdown",
      "metadata": {
        "id": "WrYtEl8PJc7-"
      },
      "source": [
        "Call the contructor to create a new instance `a`. Print the dict format of `a`."
      ]
    },
    {
      "cell_type": "code",
      "execution_count": null,
      "metadata": {
        "colab": {
          "base_uri": "https://localhost:8080/"
        },
        "id": "8Um1h_ufJhe7",
        "outputId": "eccf6fd4-c56f-46ca-c59b-b56effb7fdb9"
      },
      "outputs": [
        {
          "name": "stdout",
          "output_type": "stream",
          "text": [
            "{'comma': ','}\n"
          ]
        }
      ],
      "source": [
        "a = A()\n",
        "print(a.__dict__)"
      ]
    },
    {
      "cell_type": "markdown",
      "metadata": {
        "id": "6ESNdcLmKERy"
      },
      "source": [
        "It shows the current state of `a`, having a changable attribute `comma` and its current value is `,`."
      ]
    },
    {
      "cell_type": "markdown",
      "metadata": {
        "id": "4Dh6K36eRsB4"
      },
      "source": [
        "![UML Class Diagram](https://www.jdatalab.com/assets/images/class_diagram_student_person.PNG)"
      ]
    },
    {
      "cell_type": "markdown",
      "metadata": {
        "id": "nVjYG2YnK6J4"
      },
      "source": [
        "# Person Class"
      ]
    },
    {
      "cell_type": "markdown",
      "metadata": {
        "id": "oG00FUGMRwmi"
      },
      "source": [
        "Define the Person class having the constructor method `__init__(self, fname, lname)` to\n",
        "\n",
        "- initialize two public attribute members, `firstname` and `lastname`.\n",
        "\n",
        "- **self parameter**: A handle to access the instance of the class.\n",
        "\n",
        "- With the dot operator, `self.firstname` and `self.lastname` access the two (public) attribute members by their name."
      ]
    },
    {
      "cell_type": "code",
      "execution_count": null,
      "metadata": {
        "id": "J-jlv2ewqsGg"
      },
      "outputs": [],
      "source": [
        "class Person:\n",
        "  def __init__(self, fname, lname): # custom constructor method\n",
        "    self.firstname = fname\n",
        "    self.lastname = lname"
      ]
    },
    {
      "cell_type": "markdown",
      "metadata": {
        "id": "z1N6E4R4LIL4"
      },
      "source": [
        "## Instantiate (construct) a new instance of **Person**"
      ]
    },
    {
      "cell_type": "code",
      "execution_count": null,
      "metadata": {
        "id": "UhFybIUfLHYw"
      },
      "outputs": [],
      "source": [
        "# Instantiate:\n",
        "# Create an instance of Person with two arguments for firstname and lastname\n",
        "x = Person(\"John\", \"Doe\")"
      ]
    },
    {
      "cell_type": "markdown",
      "metadata": {
        "id": "jRf8X0-jaHJh"
      },
      "source": [
        "`x.__dict__` returns the changable attributes in `x`."
      ]
    },
    {
      "cell_type": "code",
      "execution_count": null,
      "metadata": {
        "colab": {
          "base_uri": "https://localhost:8080/"
        },
        "id": "u0fVbqCiaDra",
        "outputId": "c66ffbab-6523-43fd-be62-ef0daf39960c"
      },
      "outputs": [
        {
          "data": {
            "text/plain": [
              "{'firstname': 'John', 'lastname': 'Doe'}"
            ]
          },
          "execution_count": 40,
          "metadata": {},
          "output_type": "execute_result"
        }
      ],
      "source": [
        "x.__dict__"
      ]
    },
    {
      "cell_type": "markdown",
      "metadata": {
        "id": "yZ-68-8NTjZZ"
      },
      "source": [
        "Then call `print` and `str` functions with `x`. Both returns the same Object ID."
      ]
    },
    {
      "cell_type": "code",
      "execution_count": null,
      "metadata": {
        "colab": {
          "base_uri": "https://localhost:8080/"
        },
        "id": "JZmMp9rdUPQK",
        "outputId": "14b73852-9b8b-4585-930b-98558d1fff8c"
      },
      "outputs": [
        {
          "name": "stdout",
          "output_type": "stream",
          "text": [
            "<__main__.Person object at 0x7e2885b28fd0>\n"
          ]
        }
      ],
      "source": [
        "print(x)"
      ]
    },
    {
      "cell_type": "code",
      "execution_count": null,
      "metadata": {
        "colab": {
          "base_uri": "https://localhost:8080/",
          "height": 35
        },
        "id": "1aJmJo_eTj6g",
        "outputId": "6ba44fac-5d12-45b9-dfdd-902d05957c73"
      },
      "outputs": [
        {
          "data": {
            "application/vnd.google.colaboratory.intrinsic+json": {
              "type": "string"
            },
            "text/plain": [
              "'<__main__.Person object at 0x7e2885b29a80>'"
            ]
          },
          "execution_count": 23,
          "metadata": {},
          "output_type": "execute_result"
        }
      ],
      "source": [
        "str(x) # returns object ID string"
      ]
    },
    {
      "cell_type": "markdown",
      "metadata": {
        "id": "J8Eq1DwCUZg6"
      },
      "source": [
        "## String Representation"
      ]
    },
    {
      "cell_type": "markdown",
      "metadata": {
        "id": "c2kt06KuUhcw"
      },
      "source": [
        "`__str__` method (magic name): A method that returns the string representation of an instance's state at that moment. This method is called when you do `print()` or `str()` on an instance. This method can be overridden with user-defined representation."
      ]
    },
    {
      "cell_type": "markdown",
      "metadata": {
        "id": "ZAGG6Gk0ZfwH"
      },
      "source": [
        "## Magic name🐾\n",
        "\n",
        "```python\n",
        "def __str__(self): # overwrite\n",
        "  return f\"{self.__class__.__name__}: {self.firstname} {self.lastname}\"\n",
        "```"
      ]
    },
    {
      "cell_type": "markdown",
      "metadata": {
        "id": "XXSGMIPoVepG"
      },
      "source": [
        "In the following, override the default `__str__` method in Person class."
      ]
    },
    {
      "cell_type": "markdown",
      "metadata": {
        "id": "UAcr9Gzka_Qc"
      },
      "source": [
        "# Person Class def-2"
      ]
    },
    {
      "cell_type": "code",
      "execution_count": null,
      "metadata": {
        "id": "voHgT43va6Jm"
      },
      "outputs": [],
      "source": [
        "class Person:\n",
        "\n",
        "  def __init__(self, fname, lname):\n",
        "    self.firstname = fname\n",
        "    self.lastname = lname\n",
        "\n",
        "  def __str__(self): # override default __str__\n",
        "    return f\"{self.__class__.__name__}: {self.firstname} {self.lastname}\""
      ]
    },
    {
      "cell_type": "code",
      "execution_count": null,
      "metadata": {
        "id": "7j65YmzmbI0t"
      },
      "outputs": [],
      "source": [
        "x = Person(\"John\", \"Doe\")"
      ]
    },
    {
      "cell_type": "code",
      "execution_count": null,
      "metadata": {
        "colab": {
          "base_uri": "https://localhost:8080/"
        },
        "id": "82CxEAY_V6F3",
        "outputId": "55c08a97-63ba-4486-85e6-d547bc65a825"
      },
      "outputs": [
        {
          "data": {
            "text/plain": [
              "{'firstname': 'John', 'lastname': 'Doe'}"
            ]
          },
          "execution_count": 27,
          "metadata": {},
          "output_type": "execute_result"
        }
      ],
      "source": [
        "x.__dict__"
      ]
    },
    {
      "cell_type": "markdown",
      "metadata": {
        "id": "eyG1yt6TazED"
      },
      "source": [
        "Calling either `print` or `str` function with an instance will trigger `__str__` method."
      ]
    },
    {
      "cell_type": "code",
      "execution_count": null,
      "metadata": {
        "colab": {
          "base_uri": "https://localhost:8080/"
        },
        "id": "a3t5Uqtmaqjp",
        "outputId": "0ad11ec9-5ed3-4862-bc5f-df686b8ef904"
      },
      "outputs": [
        {
          "name": "stdout",
          "output_type": "stream",
          "text": [
            "Person: John Doe\n",
            "Person: John Doe\n"
          ]
        }
      ],
      "source": [
        "print(x) #  Person.__str__ called\n",
        "print(str(x))"
      ]
    },
    {
      "cell_type": "markdown",
      "metadata": {
        "id": "RKA2NgN0XHZ_"
      },
      "source": [
        "# Private Attribute Members\n",
        "\n",
        "**Double leading underscore in a variable's name** in a class's member (either attribute or method) indicates the member is private.\n",
        "\n",
        "```python\n",
        "  def __init__(self, fname, lname):\n",
        "        self.__firstname = fname\n",
        "        self.__lastname = lname\n",
        "```\n",
        "\n",
        "Attribute `__firstname` is not accessible outside class Person.\n",
        "\n",
        "Attribute `__firstname` can not be overwritten in the subclasses of Person."
      ]
    },
    {
      "cell_type": "markdown",
      "metadata": {
        "id": "_nslal81dAJ7"
      },
      "source": [
        "**However, Python does not design this indicator to prevent deliberate access from outside.**"
      ]
    },
    {
      "cell_type": "markdown",
      "metadata": {
        "id": "b6VTaYLvfLTi"
      },
      "source": [
        "To respect the private indicator, Python formally defines the getter and setter methods for reading and updating each private attribute."
      ]
    },
    {
      "cell_type": "markdown",
      "metadata": {
        "id": "jwXWlrf1Y0H1"
      },
      "source": [
        "### Getter (Accessor)"
      ]
    },
    {
      "cell_type": "code",
      "execution_count": null,
      "metadata": {
        "id": "u_wZ1BYeX2at"
      },
      "outputs": [],
      "source": [
        "def getFirstName(self):\n",
        "  return self.__firstname\n",
        "\n",
        "def getLastName(self):\n",
        "  return self.__lastname"
      ]
    },
    {
      "cell_type": "markdown",
      "metadata": {
        "id": "nmb-haWsY2sk"
      },
      "source": [
        "\n",
        "\n",
        "### Setter (Mutator)"
      ]
    },
    {
      "cell_type": "code",
      "execution_count": null,
      "metadata": {
        "id": "2ngCeC5OY3Ks"
      },
      "outputs": [],
      "source": [
        "def setFirstName(self, fname):\n",
        "  self.__firstname = fname\n",
        "\n",
        "def setLastName(self, lname):\n",
        "  self.__lastname = lname"
      ]
    },
    {
      "cell_type": "markdown",
      "metadata": {
        "id": "TvWJXWF2dtil"
      },
      "source": [
        "By adding the four getter and setter methods to Person class, we have the third def in the following."
      ]
    },
    {
      "cell_type": "markdown",
      "metadata": {
        "id": "v-54E1xFeK6c"
      },
      "source": [
        "# Person Class def-3"
      ]
    },
    {
      "cell_type": "code",
      "execution_count": null,
      "metadata": {
        "id": "ANnB4ZMDeLS8"
      },
      "outputs": [],
      "source": [
        "class Person:\n",
        "\n",
        "  def __init__(self, fname, lname): # constructor\n",
        "    self.__firstname = fname\n",
        "    self.__lastname = lname\n",
        "\n",
        "  def getFirstName(self): # getter\n",
        "    return self.__firstname\n",
        "\n",
        "  def getLastName(self):\n",
        "    return self.__lastname\n",
        "\n",
        "  def setFirstName(self, fname): # setter\n",
        "    self.__firstname = fname\n",
        "\n",
        "  def setLastName(self, lname):\n",
        "    self.__lastname = lname\n",
        "\n",
        "  def __str__(self): # override\n",
        "    return f\"{self.__class__.__name__}: {self.__firstname} {self.__lastname}\""
      ]
    },
    {
      "cell_type": "markdown",
      "metadata": {
        "id": "x33iMcRBesnr"
      },
      "source": [
        "Create a new instance `p`"
      ]
    },
    {
      "cell_type": "code",
      "execution_count": null,
      "metadata": {
        "id": "2mf29rcfem_0"
      },
      "outputs": [],
      "source": [
        "p = Person(\"Mark\", \"Hanks\")"
      ]
    },
    {
      "cell_type": "code",
      "execution_count": null,
      "metadata": {
        "colab": {
          "base_uri": "https://localhost:8080/"
        },
        "id": "b1N7iiQ2VxZt",
        "outputId": "7efde4f5-f4a3-494b-f84c-805b1c8d6377"
      },
      "outputs": [
        {
          "data": {
            "text/plain": [
              "{'_Person__firstname': 'Mark', '_Person__lastname': 'Hanks'}"
            ]
          },
          "execution_count": 22,
          "metadata": {},
          "output_type": "execute_result"
        }
      ],
      "source": [
        "p.__dict__"
      ]
    },
    {
      "cell_type": "markdown",
      "metadata": {
        "id": "wzgvoRlNe8N4"
      },
      "source": [
        "With the getter and setter, the private members `__firstname` and `__lastname` can no longer be accessible directly by their name. The cell shows `p.__firstname` throws an **AttributeError** exception."
      ]
    },
    {
      "cell_type": "code",
      "execution_count": null,
      "metadata": {
        "colab": {
          "base_uri": "https://localhost:8080/",
          "height": 141
        },
        "id": "Vhlf2XVHesSc",
        "outputId": "8f6c356e-fedb-4b68-9ac3-f85aa5183f32"
      },
      "outputs": [
        {
          "ename": "AttributeError",
          "evalue": "'Person' object has no attribute '__firstname'",
          "output_type": "error",
          "traceback": [
            "\u001b[0;31m---------------------------------------------------------------------------\u001b[0m",
            "\u001b[0;31mAttributeError\u001b[0m                            Traceback (most recent call last)",
            "\u001b[0;32m<ipython-input-3-fdd0054ebc44>\u001b[0m in \u001b[0;36m<cell line: 0>\u001b[0;34m()\u001b[0m\n\u001b[0;32m----> 1\u001b[0;31m \u001b[0mprint\u001b[0m\u001b[0;34m(\u001b[0m\u001b[0mp\u001b[0m\u001b[0;34m.\u001b[0m\u001b[0m__firstname\u001b[0m\u001b[0;34m)\u001b[0m \u001b[0;31m# AttributeError:\u001b[0m\u001b[0;34m\u001b[0m\u001b[0;34m\u001b[0m\u001b[0m\n\u001b[0m",
            "\u001b[0;31mAttributeError\u001b[0m: 'Person' object has no attribute '__firstname'"
          ]
        }
      ],
      "source": [
        "print(p.__firstname) # AttributeError:"
      ]
    },
    {
      "cell_type": "markdown",
      "metadata": {
        "id": "15fBDIs8g4cF"
      },
      "source": [
        "Instead, call the associated getter will read the private member `__firstname` for the instance."
      ]
    },
    {
      "cell_type": "markdown",
      "metadata": {
        "id": "XUlZpBECTwof"
      },
      "source": [
        "# Turn Attributes to Properties\n",
        "\n",
        "The Pythonic way to attach behavior to an attribute is to turn the attribute itself into a property.\n",
        "\n",
        "Properties pack together methods for getting, setting, deleting, and documenting the underlying data.\n",
        "\n",
        "Therefore, properties are special attributes with additional behavior.\n"
      ]
    },
    {
      "cell_type": "markdown",
      "metadata": {
        "id": "s6yvH5D9T1fT"
      },
      "source": [
        "## The @property Decorator\n",
        "\n",
        "The `@property` decorator in Python is a built-in feature that allows methods to be accessed like attributes. It's a way to implement\n",
        "\n",
        "- getters,\n",
        "- setters,\n",
        "- deleters\n",
        "\n",
        "in a more Pythonic and readable manner.\n",
        "\n",
        "The `@property` decorator is supported in _Python 2.2 and later_ versions, ensuring broad compatibility across different Python environments.\n"
      ]
    },
    {
      "cell_type": "code",
      "execution_count": null,
      "metadata": {
        "id": "1ac-bUNMT5Zl"
      },
      "outputs": [],
      "source": [
        "class Person:\n",
        "\n",
        "  def __init__(self, fname, lname): # constructor\n",
        "    self.__firstname = fname\n",
        "    self.__lastname = lname\n",
        "\n",
        "  @property\n",
        "  def firstname(self): # getter\n",
        "    return self.__firstname\n",
        "\n",
        "  @property\n",
        "  def lastname(self):\n",
        "    return self.__lastname\n",
        "\n",
        "  @firstname.setter\n",
        "  def firstname(self, fname): # setter\n",
        "    if fname and fname != self.__firstname:\n",
        "      self.__firstname = fname\n",
        "    else:\n",
        "      print(\"Invalid first name\")\n",
        "\n",
        "  @lastname.setter\n",
        "  def lastname(self, lname):\n",
        "    if lname and lname != self.__lastname:\n",
        "      self.__lastname = lname\n",
        "    else:\n",
        "      print(\"Invalid last name\")\n",
        "\n",
        "\n",
        "  def __str__(self): # override\n",
        "    return f\"{self.__class__.__name__}: {self.__firstname} {self.__lastname}\""
      ]
    },
    {
      "cell_type": "code",
      "execution_count": null,
      "metadata": {
        "colab": {
          "base_uri": "https://localhost:8080/"
        },
        "id": "Qf9djD9UUZzH",
        "outputId": "6111e320-a6ba-4247-ce56-277f2e0e500b"
      },
      "outputs": [
        {
          "name": "stdout",
          "output_type": "stream",
          "text": [
            "Mark\n",
            "Tom\n",
            "Invalid first name\n",
            "Tom\n"
          ]
        }
      ],
      "source": [
        "#\n",
        "p = Person(\"Mark\", \"Hanks\")\n",
        "print(p.firstname)\n",
        "p.firstname = \"Tom\"\n",
        "print(p.firstname)\n",
        "p.firstname = None\n",
        "print(p.firstname)"
      ]
    }
  ],
  "metadata": {
    "colab": {
      "provenance": [],
      "toc_visible": true,
      "include_colab_link": true
    },
    "kernelspec": {
      "display_name": "Python 3",
      "name": "python3"
    },
    "language_info": {
      "name": "python"
    }
  },
  "nbformat": 4,
  "nbformat_minor": 0
}